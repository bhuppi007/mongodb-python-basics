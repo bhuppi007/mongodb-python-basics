{
 "cells": [
  {
   "cell_type": "code",
   "execution_count": 3,
   "id": "74661267",
   "metadata": {},
   "outputs": [],
   "source": [
    "# !pip install pymongo\n",
    "# helps with connection with mongodb"
   ]
  },
  {
   "cell_type": "code",
   "execution_count": 23,
   "id": "2c46c9b6",
   "metadata": {},
   "outputs": [],
   "source": [
    "# importing libraries\n",
    "import pymongo"
   ]
  },
  {
   "cell_type": "code",
   "execution_count": 24,
   "id": "a8f14544",
   "metadata": {},
   "outputs": [],
   "source": [
    "# making a mongodb client\n",
    "client = pymongo.MongoClient('mongodb://127.0.0.1:27017/')"
   ]
  },
  {
   "cell_type": "code",
   "execution_count": 25,
   "id": "70a5ee3c",
   "metadata": {},
   "outputs": [],
   "source": [
    "# create a database\n",
    "mydb = client[\"Employee\"]"
   ]
  },
  {
   "cell_type": "code",
   "execution_count": 32,
   "id": "0549e799",
   "metadata": {},
   "outputs": [],
   "source": [
    "# creating a collection\n",
    "\n",
    "employee_table = mydb.employee_table"
   ]
  },
  {
   "cell_type": "code",
   "execution_count": 33,
   "id": "041b3b4f",
   "metadata": {},
   "outputs": [],
   "source": [
    "record = {\n",
    "    \"firstname\": \"bhupender\",\n",
    "    \"lastname\": \"singh\",\n",
    "    \"department\": \"analytics\",\n",
    "    \"class\":\"college\"\n",
    "    \n",
    "}"
   ]
  },
  {
   "cell_type": "code",
   "execution_count": 34,
   "id": "a296d45c",
   "metadata": {},
   "outputs": [
    {
     "data": {
      "text/plain": [
       "<pymongo.results.InsertOneResult at 0x1c7797dda88>"
      ]
     },
     "execution_count": 34,
     "metadata": {},
     "output_type": "execute_result"
    }
   ],
   "source": [
    "employee_table.insert_one(record)"
   ]
  },
  {
   "cell_type": "code",
   "execution_count": 35,
   "id": "439c4402",
   "metadata": {},
   "outputs": [],
   "source": [
    "records=[{\n",
    "        'firstname':'John',\n",
    "        'lastname':'Doe',\n",
    "        'department':'Analytics',\n",
    "        'qualification':'statistics',\n",
    "        'age':35\n",
    "        \n",
    "        },\n",
    "         {\n",
    "        'firstname':'John ',\n",
    "        'lastname':'Smith',\n",
    "        'department':'Analytics',\n",
    "        'qualification':'masters',\n",
    "        'age':30\n",
    "        \n",
    "        },\n",
    "        {\n",
    "        'firstname':'Manish',\n",
    "        'lastname':'Sen',\n",
    "        'department':'Analytics',\n",
    "        'qualification':'phd',\n",
    "        'age':34\n",
    "        \n",
    "        },\n",
    "        {\n",
    "        'firstname':'Ram',\n",
    "        'lastname':'Singh',\n",
    "        'department':'Analytics',\n",
    "        'qualification':'master',\n",
    "        'age':32\n",
    "        \n",
    "        }]"
   ]
  },
  {
   "cell_type": "code",
   "execution_count": 36,
   "id": "fd97be61",
   "metadata": {},
   "outputs": [
    {
     "data": {
      "text/plain": [
       "<pymongo.results.InsertManyResult at 0x1c776142c48>"
      ]
     },
     "execution_count": 36,
     "metadata": {},
     "output_type": "execute_result"
    }
   ],
   "source": [
    "employee_table.insert_many(records)"
   ]
  },
  {
   "cell_type": "code",
   "execution_count": 38,
   "id": "fbe5e2c1",
   "metadata": {},
   "outputs": [],
   "source": [
    "## query find and print etc."
   ]
  },
  {
   "cell_type": "code",
   "execution_count": 41,
   "id": "963ee26a",
   "metadata": {},
   "outputs": [
    {
     "data": {
      "text/plain": [
       "{'_id': ObjectId('60af3d11f5a8a2cc09a97854'),\n",
       " 'firstname': 'bhupender',\n",
       " 'lastname': 'singh',\n",
       " 'department': 'analytics',\n",
       " 'class': 'college'}"
      ]
     },
     "execution_count": 41,
     "metadata": {},
     "output_type": "execute_result"
    }
   ],
   "source": [
    "#simple way\n",
    "# by default 1st document is listed\n",
    "employee_table.find_one({})"
   ]
  },
  {
   "cell_type": "code",
   "execution_count": 42,
   "id": "c430bf4f",
   "metadata": {},
   "outputs": [
    {
     "name": "stdout",
     "output_type": "stream",
     "text": [
      "{'_id': ObjectId('60af3d11f5a8a2cc09a97854'), 'firstname': 'bhupender', 'lastname': 'singh', 'department': 'analytics', 'class': 'college'}\n",
      "{'_id': ObjectId('60af3d21f5a8a2cc09a97855'), 'firstname': 'John', 'lastname': 'Doe', 'department': 'Analytics', 'qualification': 'statistics', 'age': 35}\n",
      "{'_id': ObjectId('60af3d21f5a8a2cc09a97856'), 'firstname': 'John ', 'lastname': 'Smith', 'department': 'Analytics', 'qualification': 'masters', 'age': 30}\n",
      "{'_id': ObjectId('60af3d21f5a8a2cc09a97857'), 'firstname': 'Manish', 'lastname': 'Sen', 'department': 'Analytics', 'qualification': 'phd', 'age': 34}\n",
      "{'_id': ObjectId('60af3d21f5a8a2cc09a97858'), 'firstname': 'Ram', 'lastname': 'Singh', 'department': 'Analytics', 'qualification': 'master', 'age': 32}\n"
     ]
    }
   ],
   "source": [
    "# select * from employee_table\n",
    "\n",
    "for record in employee_table.find({}):\n",
    "    print(record)"
   ]
  },
  {
   "cell_type": "code",
   "execution_count": 44,
   "id": "7cf993f5",
   "metadata": {},
   "outputs": [
    {
     "data": {
      "text/plain": [
       "<pymongo.cursor.Cursor at 0x1c779ef6948>"
      ]
     },
     "execution_count": 44,
     "metadata": {},
     "output_type": "execute_result"
    }
   ],
   "source": [
    "employee_table.find() # gives out the cursor"
   ]
  },
  {
   "cell_type": "code",
   "execution_count": 46,
   "id": "a6242685",
   "metadata": {},
   "outputs": [
    {
     "name": "stdout",
     "output_type": "stream",
     "text": [
      "{'_id': ObjectId('60af3d11f5a8a2cc09a97854'), 'firstname': 'bhupender', 'lastname': 'singh', 'department': 'analytics', 'class': 'college'}\n"
     ]
    }
   ],
   "source": [
    "## query of where this is that.\n",
    "# select * from table where firstname = \"bhupender\";\n",
    " \n",
    "for record in employee_table.find({\"firstname\": \"bhupender\"}): # query is also written as a JSON format\n",
    "    print(record)"
   ]
  },
  {
   "cell_type": "code",
   "execution_count": 49,
   "id": "f0307db3",
   "metadata": {},
   "outputs": [
    {
     "name": "stdout",
     "output_type": "stream",
     "text": [
      "{'_id': ObjectId('60af3d21f5a8a2cc09a97856'), 'firstname': 'John ', 'lastname': 'Smith', 'department': 'Analytics', 'qualification': 'masters', 'age': 30}\n",
      "{'_id': ObjectId('60af3d21f5a8a2cc09a97857'), 'firstname': 'Manish', 'lastname': 'Sen', 'department': 'Analytics', 'qualification': 'phd', 'age': 34}\n"
     ]
    }
   ],
   "source": [
    "## query of using ($in, $lt, $gt) in, less than, greater than\n",
    "\n",
    "for record in employee_table.find({\"qualification\": {\"$in\": [\"phd\", \"masters\"]}}):\n",
    "    print(record)"
   ]
  },
  {
   "cell_type": "code",
   "execution_count": 52,
   "id": "79904d99",
   "metadata": {},
   "outputs": [
    {
     "name": "stdout",
     "output_type": "stream",
     "text": [
      "{'_id': ObjectId('60af3d21f5a8a2cc09a97858'), 'firstname': 'Ram', 'lastname': 'Singh', 'department': 'Analytics', 'qualification': 'master', 'age': 32}\n"
     ]
    }
   ],
   "source": [
    "## less than and greater than\n",
    "# we used lt and two query conditions to find out the result\n",
    "for record in employee_table.find({\"age\": {\"$lt\": 35}, \"qualification\": \"master\"}):\n",
    "    print(record)"
   ]
  },
  {
   "cell_type": "code",
   "execution_count": 56,
   "id": "93dfbb63",
   "metadata": {},
   "outputs": [
    {
     "name": "stdout",
     "output_type": "stream",
     "text": [
      "{'_id': ObjectId('60af3d11f5a8a2cc09a97854'), 'firstname': 'bhupender', 'lastname': 'singh', 'department': 'analytics', 'class': 'college'}\n",
      "{'_id': ObjectId('60af3d21f5a8a2cc09a97858'), 'firstname': 'Ram', 'lastname': 'Singh', 'department': 'Analytics', 'qualification': 'master', 'age': 32}\n"
     ]
    }
   ],
   "source": [
    "## 'OR' and 'AND' operators $or, $and\n",
    " \n",
    "for record in employee_table.find({\"$or\": [{\"firstname\": \"bhupender\"}, {\"qualification\":\"master\"}]}):\n",
    "    print(record)"
   ]
  },
  {
   "cell_type": "code",
   "execution_count": 58,
   "id": "70faee09",
   "metadata": {},
   "outputs": [],
   "source": [
    "for record in employee_table.find({\"$and\": [{\"firstname\": \"bhupender\"}, {\"qualification\":\"master\"}]}):\n",
    "    print(record)\n",
    "    \n",
    "#not found any"
   ]
  },
  {
   "cell_type": "code",
   "execution_count": 59,
   "id": "9977ed79",
   "metadata": {},
   "outputs": [],
   "source": [
    "## use of nested query\n",
    "inventory=mydb.inventory\n",
    "\n",
    "inventory.insert_many( [\n",
    "   { 'item': \"journal\", 'qty': 25, 'size': { 'h': 14, 'w': 21,'uom': \"cm\" }, 'status': \"A\" },\n",
    "   { 'item': \"notebook\", 'qty': 50,'size': { 'h': 8.5, 'w': 11,'uom': \"in\" },'status': \"A\" },\n",
    "   { 'item': \"paper\", 'qty': 100, 'size': { 'h': 8.5, 'w': 11,'uom': \"in\" },'status': \"D\" },\n",
    "   { 'item': \"planner\", 'qty': 75, 'size': { 'h': 22.85,'w': 30,'uom': \"cm\" },'status': \"D\" },\n",
    "   { 'item': \"postcard\", 'qty': 45, 'size': { 'h': 10, 'w': 15.25,'uom': \"cm\" },'status': \"A\" }\n",
    "]);"
   ]
  },
  {
   "cell_type": "code",
   "execution_count": 71,
   "id": "acfe5f3b",
   "metadata": {},
   "outputs": [
    {
     "name": "stdout",
     "output_type": "stream",
     "text": [
      "{'_id': ObjectId('60af3fc3f5a8a2cc09a97859'), 'item': 'journal', 'qty': 25, 'size': {'h': 14, 'w': 21, 'uom': 'cm'}, 'status': 'A'}\n"
     ]
    }
   ],
   "source": [
    "for records in inventory.find({'size': { 'h': 14, 'w': 21,'uom': \"cm\" }}):\n",
    "    print(records)"
   ]
  },
  {
   "cell_type": "code",
   "execution_count": 72,
   "id": "3bbc2122",
   "metadata": {},
   "outputs": [],
   "source": [
    "## updating records using update_one, update_many, replace_one"
   ]
  },
  {
   "cell_type": "code",
   "execution_count": 79,
   "id": "7933c3c3",
   "metadata": {},
   "outputs": [],
   "source": [
    "inventory = mydb.inventory"
   ]
  },
  {
   "cell_type": "code",
   "execution_count": 80,
   "id": "9f54cf94",
   "metadata": {},
   "outputs": [
    {
     "data": {
      "text/plain": [
       "<pymongo.results.InsertManyResult at 0x1c7792aa488>"
      ]
     },
     "execution_count": 80,
     "metadata": {},
     "output_type": "execute_result"
    }
   ],
   "source": [
    "inventory.insert_many([\n",
    "    {\"item\": \"canvas\",\n",
    "     \"qty\": 100,\n",
    "     \"size\": {\"h\": 28, \"w\": 35.5, \"uom\": \"cm\"},\n",
    "     \"status\": \"A\"},\n",
    "    {\"item\": \"journal\",\n",
    "     \"qty\": 25,\n",
    "     \"size\": {\"h\": 14, \"w\": 21, \"uom\": \"cm\"},\n",
    "     \"status\": \"A\"},\n",
    "    {\"item\": \"mat\",\n",
    "     \"qty\": 85,\n",
    "     \"size\": {\"h\": 27.9, \"w\": 35.5, \"uom\": \"cm\"},\n",
    "     \"status\": \"A\"},\n",
    "    {\"item\": \"mousepad\",\n",
    "     \"qty\": 25,\n",
    "     \"size\": {\"h\": 19, \"w\": 22.85, \"uom\": \"cm\"},\n",
    "     \"status\": \"P\"},\n",
    "    {\"item\": \"notebook\",\n",
    "     \"qty\": 50,\n",
    "     \"size\": {\"h\": 8.5, \"w\": 11, \"uom\": \"in\"},\n",
    "     \"status\": \"P\"},\n",
    "    {\"item\": \"paper\",\n",
    "     \"qty\": 100,\n",
    "     \"size\": {\"h\": 8.5, \"w\": 11, \"uom\": \"in\"},\n",
    "     \"status\": \"D\"},\n",
    "    {\"item\": \"planner\",\n",
    "     \"qty\": 75,\n",
    "     \"size\": {\"h\": 22.85, \"w\": 30, \"uom\": \"cm\"},\n",
    "     \"status\": \"D\"},\n",
    "    {\"item\": \"postcard\",\n",
    "     \"qty\": 45,\n",
    "     \"size\": {\"h\": 10, \"w\": 15.25, \"uom\": \"cm\"},\n",
    "     \"status\": \"A\"},\n",
    "    {\"item\": \"sketchbook\",\n",
    "     \"qty\": 80,\n",
    "     \"size\": {\"h\": 14, \"w\": 21, \"uom\": \"cm\"},\n",
    "     \"status\": \"A\"},\n",
    "    {\"item\": \"sketch pad\",\n",
    "     \"qty\": 95,\n",
    "     \"size\": {\"h\": 22.85, \"w\": 30.5, \"uom\": \"cm\"},\n",
    "     \"status\": \"A\"}])"
   ]
  },
  {
   "cell_type": "code",
   "execution_count": 84,
   "id": "d15544ba",
   "metadata": {},
   "outputs": [
    {
     "data": {
      "text/plain": [
       "<pymongo.results.UpdateResult at 0x1c7792a8f08>"
      ]
     },
     "execution_count": 84,
     "metadata": {},
     "output_type": "execute_result"
    }
   ],
   "source": [
    "inventory.update_one(\n",
    "    {\"item\":\"sketch pad\"}, \n",
    "    {\"$set\" : {\"size.uom\": \"m\", \"status\": \"P\"}, \n",
    "     \"$currentDate\": {\"lastModified\": True}})"
   ]
  },
  {
   "cell_type": "code",
   "execution_count": 88,
   "id": "7db5e88d",
   "metadata": {},
   "outputs": [
    {
     "data": {
      "text/plain": [
       "<pymongo.results.UpdateResult at 0x1c7792819c8>"
      ]
     },
     "execution_count": 88,
     "metadata": {},
     "output_type": "execute_result"
    }
   ],
   "source": [
    "inventory.replace_one(\n",
    "    {\"item\": \"paper\"},\n",
    "    {\"item\": \"paper\", \n",
    "    \"instock\": [{\"warehouse\": \"A\", \"qty\": 60}, {\"warehouse\":\"B\", \"qty\": 40}]})"
   ]
  },
  {
   "cell_type": "code",
   "execution_count": 72,
   "id": "bb8d0814",
   "metadata": {},
   "outputs": [],
   "source": [
    "## aggregate functions"
   ]
  },
  {
   "cell_type": "code",
   "execution_count": null,
   "id": "bae1410b",
   "metadata": {},
   "outputs": [],
   "source": []
  },
  {
   "cell_type": "code",
   "execution_count": 73,
   "id": "cf770a62",
   "metadata": {},
   "outputs": [],
   "source": [
    "import pymongo"
   ]
  },
  {
   "cell_type": "code",
   "execution_count": 74,
   "id": "13b0d83b",
   "metadata": {},
   "outputs": [],
   "source": [
    "client = pymongo.MongoClient(\"mongodb://127.0.0.1:27017/\")"
   ]
  },
  {
   "cell_type": "code",
   "execution_count": 75,
   "id": "58b68919",
   "metadata": {},
   "outputs": [],
   "source": [
    "database = client[\"database_for_aggregate\"]"
   ]
  },
  {
   "cell_type": "code",
   "execution_count": 76,
   "id": "e1d58f56",
   "metadata": {},
   "outputs": [],
   "source": [
    "collection = database.collection"
   ]
  },
  {
   "cell_type": "code",
   "execution_count": 77,
   "id": "7ddcb588",
   "metadata": {},
   "outputs": [],
   "source": [
    "data = [ \n",
    "    {\"user\":\"Krish\", \"subject\":\"Database\", \"score\":80}, \n",
    "    {\"user\":\"Amit\",  \"subject\":\"JavaScript\", \"score\":90}, \n",
    "    {\"user\":\"Amit\",  \"title\":\"Database\", \"score\":85}, \n",
    "    {\"user\":\"Krish\",  \"title\":\"JavaScript\", \"score\":75}, \n",
    "    {\"user\":\"Amit\",  \"title\":\"Data Science\", \"score\":60},\n",
    "    {\"user\":\"Krish\",  \"title\":\"Data Science\", \"score\":95}] "
   ]
  },
  {
   "cell_type": "code",
   "execution_count": 78,
   "id": "723e7497",
   "metadata": {},
   "outputs": [
    {
     "data": {
      "text/plain": [
       "<pymongo.results.InsertManyResult at 0x1d7efe3d588>"
      ]
     },
     "execution_count": 78,
     "metadata": {},
     "output_type": "execute_result"
    }
   ],
   "source": [
    "collection.insert_many(data)"
   ]
  },
  {
   "cell_type": "code",
   "execution_count": 80,
   "id": "bb1699f3",
   "metadata": {},
   "outputs": [],
   "source": [
    "## aggregate, sum , average are all in groupby function which is in aggregate function"
   ]
  },
  {
   "cell_type": "code",
   "execution_count": 84,
   "id": "62d2d1cb",
   "metadata": {},
   "outputs": [],
   "source": [
    "### Find Amit And Krish Total Subjects\n",
    "agg_result= collection.aggregate( \n",
    "    [{ \n",
    "    \"$group\" :  \n",
    "        {\"_id\" : \"$user\",  \n",
    "         \"Total Subject\" : {\"$sum\" : 1} \n",
    "         }} \n",
    "    ])"
   ]
  },
  {
   "cell_type": "code",
   "execution_count": 85,
   "id": "86c41bdc",
   "metadata": {},
   "outputs": [
    {
     "name": "stdout",
     "output_type": "stream",
     "text": [
      "{'_id': 'Krish', 'Total Subject': 3}\n",
      "{'_id': 'Amit', 'Total Subject': 3}\n"
     ]
    }
   ],
   "source": [
    "for i in agg_result: \n",
    "    print(i)"
   ]
  },
  {
   "cell_type": "code",
   "execution_count": 86,
   "id": "72297d9b",
   "metadata": {},
   "outputs": [
    {
     "name": "stdout",
     "output_type": "stream",
     "text": [
      "{'_id': 'Krish', 'Total Marks': 250}\n",
      "{'_id': 'Amit', 'Total Marks': 235}\n"
     ]
    }
   ],
   "source": [
    "### Calculating the total score based on user\n",
    "agg_result= collection.aggregate( \n",
    "    [{ \n",
    "    \"$group\" :  \n",
    "        {\"_id\" : \"$user\",  \n",
    "         \"Total Marks\" : {\"$sum\" :\"$score\"} \n",
    "         }} \n",
    "    ]) \n",
    "for i in agg_result: \n",
    "    print(i)"
   ]
  },
  {
   "cell_type": "code",
   "execution_count": 87,
   "id": "72d621bf",
   "metadata": {},
   "outputs": [
    {
     "name": "stdout",
     "output_type": "stream",
     "text": [
      "{'_id': 'Amit', 'StudentScoreAverage': 78.33333333333333}\n",
      "{'_id': 'Krish', 'StudentScoreAverage': 83.33333333333333}\n"
     ]
    }
   ],
   "source": [
    "\n",
    "### Calculating the average score based on user\n",
    "agg_result=collection.aggregate([\n",
    "   {\n",
    "      \"$group\": {\n",
    "         \"_id\": '$user',\n",
    "         \"StudentScoreAverage\": {\n",
    "            \"$avg\": \"$score\"\n",
    "         }\n",
    "      }\n",
    "   }\n",
    "])\n",
    "for i in agg_result: \n",
    "    print(i)"
   ]
  },
  {
   "cell_type": "code",
   "execution_count": 89,
   "id": "8b1df6af",
   "metadata": {},
   "outputs": [],
   "source": [
    "import datetime as datetime"
   ]
  },
  {
   "cell_type": "code",
   "execution_count": 91,
   "id": "34214b3e",
   "metadata": {},
   "outputs": [],
   "source": [
    "### Create a new collection\n",
    "data=[{ \"_id\" : 1, \"item\" : \"abc\", \"price\" : 10, \"quantity\" : 2, \"date\" : datetime.datetime.utcnow()},\n",
    "{ \"_id\" : 2, \"item\" : \"jkl\", \"price\" : 20, \"quantity\" : 1, \"date\" : datetime.datetime.utcnow() },\n",
    "{ \"_id\" : 3, \"item\" : \"xyz\", \"price\" : 5, \"quantity\" : 5, \"date\" : datetime.datetime.utcnow() },\n",
    "{ \"_id\" : 4, \"item\" : \"abc\", \"price\" : 10, \"quantity\" : 10, \"date\" : datetime.datetime.utcnow() },\n",
    "{ \"_id\" : 5, \"item\" : \"xyz\", \"price\" : 5, \"quantity\" : 10, \"date\" :datetime.datetime.utcnow() }]"
   ]
  },
  {
   "cell_type": "code",
   "execution_count": 92,
   "id": "e371fe08",
   "metadata": {},
   "outputs": [
    {
     "data": {
      "text/plain": [
       "[{'_id': 1,\n",
       "  'item': 'abc',\n",
       "  'price': 10,\n",
       "  'quantity': 2,\n",
       "  'date': datetime.datetime(2021, 5, 27, 12, 28, 36, 156588)},\n",
       " {'_id': 2,\n",
       "  'item': 'jkl',\n",
       "  'price': 20,\n",
       "  'quantity': 1,\n",
       "  'date': datetime.datetime(2021, 5, 27, 12, 28, 36, 156588)},\n",
       " {'_id': 3,\n",
       "  'item': 'xyz',\n",
       "  'price': 5,\n",
       "  'quantity': 5,\n",
       "  'date': datetime.datetime(2021, 5, 27, 12, 28, 36, 156588)},\n",
       " {'_id': 4,\n",
       "  'item': 'abc',\n",
       "  'price': 10,\n",
       "  'quantity': 10,\n",
       "  'date': datetime.datetime(2021, 5, 27, 12, 28, 36, 156588)},\n",
       " {'_id': 5,\n",
       "  'item': 'xyz',\n",
       "  'price': 5,\n",
       "  'quantity': 10,\n",
       "  'date': datetime.datetime(2021, 5, 27, 12, 28, 36, 156588)}]"
      ]
     },
     "execution_count": 92,
     "metadata": {},
     "output_type": "execute_result"
    }
   ],
   "source": [
    "data"
   ]
  },
  {
   "cell_type": "code",
   "execution_count": 93,
   "id": "d3a8cf9d",
   "metadata": {},
   "outputs": [
    {
     "data": {
      "text/plain": [
       "<pymongo.results.InsertManyResult at 0x1d7f0006d48>"
      ]
     },
     "execution_count": 93,
     "metadata": {},
     "output_type": "execute_result"
    }
   ],
   "source": [
    "mycollection=database['stores']  \n",
    "mycollection.insert_many(data)"
   ]
  },
  {
   "cell_type": "code",
   "execution_count": 94,
   "id": "4e8308b3",
   "metadata": {},
   "outputs": [
    {
     "name": "stdout",
     "output_type": "stream",
     "text": [
      "{'_id': 'jkl', 'avgAmount': 20.0, 'avgQuantity': 1.0}\n",
      "{'_id': 'abc', 'avgAmount': 60.0, 'avgQuantity': 6.0}\n",
      "{'_id': 'xyz', 'avgAmount': 37.5, 'avgQuantity': 7.5}\n"
     ]
    }
   ],
   "source": [
    "### Calculating the average quantity And Average Price\n",
    "agg_result=mycollection.aggregate([\n",
    "   {\n",
    "      \"$group\": {\n",
    "         \"_id\": '$item',\n",
    "         \"avgAmount\": {\"$avg\": {\"$multiply\": [ \"$price\", \"$quantity\" ]}},\n",
    "          \"avgQuantity\": { \"$avg\": \"$quantity\" }\n",
    "      }\n",
    "   }\n",
    "])\n",
    "for i in agg_result: \n",
    "    print(i)"
   ]
  },
  {
   "cell_type": "code",
   "execution_count": null,
   "id": "a4754767",
   "metadata": {},
   "outputs": [],
   "source": []
  },
  {
   "cell_type": "code",
   "execution_count": null,
   "id": "0f2ad10b",
   "metadata": {},
   "outputs": [],
   "source": []
  },
  {
   "cell_type": "code",
   "execution_count": null,
   "id": "f17ffe42",
   "metadata": {},
   "outputs": [],
   "source": []
  },
  {
   "cell_type": "code",
   "execution_count": null,
   "id": "05522a2a",
   "metadata": {},
   "outputs": [],
   "source": []
  },
  {
   "cell_type": "code",
   "execution_count": null,
   "id": "9830c287",
   "metadata": {},
   "outputs": [],
   "source": []
  },
  {
   "cell_type": "code",
   "execution_count": null,
   "id": "30c269df",
   "metadata": {},
   "outputs": [],
   "source": []
  },
  {
   "cell_type": "code",
   "execution_count": null,
   "id": "041a3cf7",
   "metadata": {},
   "outputs": [],
   "source": []
  },
  {
   "cell_type": "code",
   "execution_count": 1,
   "id": "af499dc6",
   "metadata": {},
   "outputs": [],
   "source": [
    "#query"
   ]
  },
  {
   "cell_type": "code",
   "execution_count": 2,
   "id": "e24d62a4",
   "metadata": {},
   "outputs": [],
   "source": [
    "import pymongo"
   ]
  },
  {
   "cell_type": "code",
   "execution_count": 6,
   "id": "583b8b59",
   "metadata": {},
   "outputs": [],
   "source": [
    "client = pymongo.MongoClient(\"mongodb://127.0.0.1:27017/\")"
   ]
  },
  {
   "cell_type": "code",
   "execution_count": 8,
   "id": "3d9e1e7f",
   "metadata": {},
   "outputs": [],
   "source": [
    "database = client[\"first_database\"]"
   ]
  },
  {
   "cell_type": "code",
   "execution_count": 9,
   "id": "b951d97f",
   "metadata": {},
   "outputs": [],
   "source": [
    "collection = database.collection"
   ]
  },
  {
   "cell_type": "code",
   "execution_count": 12,
   "id": "e4a78f98",
   "metadata": {},
   "outputs": [
    {
     "data": {
      "text/plain": [
       "<pymongo.results.InsertOneResult at 0x1d7ef7c7f08>"
      ]
     },
     "execution_count": 12,
     "metadata": {},
     "output_type": "execute_result"
    }
   ],
   "source": [
    "collection.insert_one({\"firstname\": \"bhupender\", \"lastname\": \"singh\", \"age\": \"22\", \"phno\": \"99\", \"email\": \"bhupender.com\"})"
   ]
  },
  {
   "cell_type": "code",
   "execution_count": 15,
   "id": "21130fc3",
   "metadata": {},
   "outputs": [
    {
     "data": {
      "text/plain": [
       "<pymongo.results.InsertManyResult at 0x1d7efe2ff88>"
      ]
     },
     "execution_count": 15,
     "metadata": {},
     "output_type": "execute_result"
    }
   ],
   "source": [
    "collection.insert_many([{\"firstname\": \"ram\", \"lastname\": \"singh\", \"age\": \"22\", \"phno\": \"88\", \"email\": \"ram.com\"},\n",
    "                       {\"fistname\": \"shyam\", \"lastname\": \"sharma\", \"age\": \"23\", \"phno\": \"77\", \"email\": \"shyam.com\"},\n",
    "                       {\"firstname\": \"arya\", \"age\": \"24\", \"phno\": \"66\", \"email\": \"arya.com\"},\n",
    "                       {\"firstname\": \"tin\", \"lastname\": \"tin\", \"age\": \"30\", \"email\": \"tin.com\"}])"
   ]
  },
  {
   "cell_type": "code",
   "execution_count": 16,
   "id": "f4252510",
   "metadata": {},
   "outputs": [
    {
     "data": {
      "text/plain": [
       "{'_id': ObjectId('60af86cbe715f42cadaa9496'),\n",
       " 'firstname': 'bhupender',\n",
       " 'lastname': 'singh',\n",
       " 'age': '22',\n",
       " 'phno': '99',\n",
       " 'email': 'bhupender.com'}"
      ]
     },
     "execution_count": 16,
     "metadata": {},
     "output_type": "execute_result"
    }
   ],
   "source": [
    "collection.find_one({})"
   ]
  },
  {
   "cell_type": "code",
   "execution_count": 17,
   "id": "8498e016",
   "metadata": {},
   "outputs": [
    {
     "name": "stdout",
     "output_type": "stream",
     "text": [
      "{'_id': ObjectId('60af86cbe715f42cadaa9496'), 'firstname': 'bhupender', 'lastname': 'singh', 'age': '22', 'phno': '99', 'email': 'bhupender.com'}\n",
      "{'_id': ObjectId('60af87abe715f42cadaa9497'), 'firstname': 'ram', 'lastname': 'singh', 'age': '22', 'phno': '88', 'email': 'ram.com'}\n",
      "{'_id': ObjectId('60af87abe715f42cadaa9498'), 'fistname': 'shyam', 'lastname': 'sharma', 'age': '23', 'phno': '77', 'email': 'shyam.com'}\n",
      "{'_id': ObjectId('60af87abe715f42cadaa9499'), 'firstname': 'arya', 'age': '24', 'phno': '66', 'email': 'arya.com'}\n",
      "{'_id': ObjectId('60af87abe715f42cadaa949a'), 'firstname': 'tin', 'lastname': 'tin', 'age': '30', 'email': 'tin.com'}\n"
     ]
    }
   ],
   "source": [
    "for record in collection.find():\n",
    "    print(record)"
   ]
  },
  {
   "cell_type": "code",
   "execution_count": 18,
   "id": "aee3ec47",
   "metadata": {},
   "outputs": [
    {
     "name": "stdout",
     "output_type": "stream",
     "text": [
      "{'_id': ObjectId('60af87abe715f42cadaa949a'), 'firstname': 'tin', 'lastname': 'tin', 'age': '30', 'email': 'tin.com'}\n"
     ]
    }
   ],
   "source": [
    "for record in collection.find({\"firstname\": \"tin\"}):\n",
    "    print(record)"
   ]
  },
  {
   "cell_type": "code",
   "execution_count": 25,
   "id": "709eebb8",
   "metadata": {},
   "outputs": [
    {
     "name": "stdout",
     "output_type": "stream",
     "text": [
      "{'_id': ObjectId('60af87abe715f42cadaa9498'), 'fistname': 'shyam', 'lastname': 'sharma', 'age': '23', 'phno': '77', 'email': 'shyam.com'}\n"
     ]
    }
   ],
   "source": [
    "# conditions of $in, $lt, $gt\n",
    "\n",
    "for record in collection.find(\n",
    "    {\"lastname\": {\"$in\": [\"sharma\"]}}\n",
    "): \n",
    "    print(record)"
   ]
  },
  {
   "cell_type": "code",
   "execution_count": 46,
   "id": "d218d42a",
   "metadata": {},
   "outputs": [
    {
     "name": "stdout",
     "output_type": "stream",
     "text": [
      "{'_id': ObjectId('60af87abe715f42cadaa949a'), 'firstname': 'tin', 'lastname': 'tin', 'age': '30', 'email': 'tin.com'}\n",
      "\n",
      "\n",
      "\n",
      "{'_id': ObjectId('60af87abe715f42cadaa9498'), 'fistname': 'shyam', 'lastname': 'sharma', 'age': '23', 'phno': '77', 'email': 'shyam.com'}\n",
      "{'_id': ObjectId('60af87abe715f42cadaa9499'), 'firstname': 'arya', 'age': '24', 'phno': '66', 'email': 'arya.com'}\n",
      "{'_id': ObjectId('60af87abe715f42cadaa949a'), 'firstname': 'tin', 'lastname': 'tin', 'age': '30', 'email': 'tin.com'}\n"
     ]
    }
   ],
   "source": [
    "# less than and greater than\n",
    "\n",
    "for record in collection.find({\"age\": {\"$gt\": \"25\"}}):\n",
    "    print(record, end= \"\\n\\n\\n\\n\")\n",
    "    \n",
    "for record in collection.find({\"age\": {\"$gt\": \"22\"}}):\n",
    "    print(record)"
   ]
  },
  {
   "cell_type": "code",
   "execution_count": 47,
   "id": "e1b948b0",
   "metadata": {},
   "outputs": [],
   "source": [
    "## and or operators"
   ]
  },
  {
   "cell_type": "code",
   "execution_count": 56,
   "id": "55b42673",
   "metadata": {},
   "outputs": [
    {
     "name": "stdout",
     "output_type": "stream",
     "text": [
      "{'_id': ObjectId('60af87abe715f42cadaa9498'), 'fistname': 'shyam', 'lastname': 'sharma', 'age': '23', 'phno': '77', 'email': 'shyam.com'}\n"
     ]
    }
   ],
   "source": [
    "for record in collection.find({\"$and\": [{\"fistname\": \"shyam\"}, {\"lastname\": \"sharma\"}]}):\n",
    "    print(record)"
   ]
  },
  {
   "cell_type": "code",
   "execution_count": 57,
   "id": "136b0923",
   "metadata": {},
   "outputs": [
    {
     "name": "stdout",
     "output_type": "stream",
     "text": [
      "{'_id': ObjectId('60af86cbe715f42cadaa9496'), 'firstname': 'bhupender', 'lastname': 'singh', 'age': '22', 'phno': '99', 'email': 'bhupender.com'}\n",
      "{'_id': ObjectId('60af87abe715f42cadaa9498'), 'fistname': 'shyam', 'lastname': 'sharma', 'age': '23', 'phno': '77', 'email': 'shyam.com'}\n"
     ]
    }
   ],
   "source": [
    "for record in collection.find({\"$or\": [{\"firstname\": \"bhupender\"}, {\"lastname\": \"sharma\"}]}):\n",
    "    print(record)"
   ]
  },
  {
   "cell_type": "code",
   "execution_count": 58,
   "id": "34612129",
   "metadata": {},
   "outputs": [],
   "source": [
    "## updating the document"
   ]
  },
  {
   "cell_type": "code",
   "execution_count": 71,
   "id": "87d1b58f",
   "metadata": {},
   "outputs": [
    {
     "data": {
      "text/plain": [
       "<pymongo.results.UpdateResult at 0x1d7ef7a5708>"
      ]
     },
     "execution_count": 71,
     "metadata": {},
     "output_type": "execute_result"
    }
   ],
   "source": [
    "collection.update_one({\"firstname\": \"shyam\"}, {\"$set\": {\"lastname\": \"suryavanshi\",\"age\": \"32\" nm"
   ]
  },
  {
   "cell_type": "code",
   "execution_count": 69,
   "id": "8d279468",
   "metadata": {},
   "outputs": [
    {
     "data": {
      "text/plain": [
       "<pymongo.results.UpdateResult at 0x1d7f0055e88>"
      ]
     },
     "execution_count": 69,
     "metadata": {},
     "output_type": "execute_result"
    }
   ],
   "source": [
    "collection.replace_one({\"lastname\": \"singh\"}, {\"firstname\": \"shyam\", \"lastname\": \"singh\"})"
   ]
  },
  {
   "cell_type": "code",
   "execution_count": null,
   "id": "22571be0",
   "metadata": {},
   "outputs": [],
   "source": []
  }
 ],
 "metadata": {
  "kernelspec": {
   "display_name": "Python 3",
   "language": "python",
   "name": "python3"
  },
  "language_info": {
   "codemirror_mode": {
    "name": "ipython",
    "version": 3
   },
   "file_extension": ".py",
   "mimetype": "text/x-python",
   "name": "python",
   "nbconvert_exporter": "python",
   "pygments_lexer": "ipython3",
   "version": "3.7.10"
  }
 },
 "nbformat": 4,
 "nbformat_minor": 5
}
